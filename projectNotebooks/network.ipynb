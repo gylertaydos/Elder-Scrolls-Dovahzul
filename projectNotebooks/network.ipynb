{
 "cells": [
  {
   "cell_type": "code",
   "execution_count": 2,
   "id": "649c8b66-f325-44a0-abbf-1427334f0d67",
   "metadata": {
    "jupyter": {
     "source_hidden": true
    }
   },
   "outputs": [],
   "source": [
    "import spacy\n",
    "import os\n",
    "from collections import Counter\n",
    "import string\n",
    "\n",
    "nlp = spacy.load(\"en_core_web_sm\")\n",
    "\n",
    "dragon_files = ['Alduin.txt', 'Paarthurnax.txt', 'Odahviing.txt']\n",
    "\n",
    "dragon_speech = {}\n",
    "\n",
    "directory_path = os.path.abspath(os.path.join('dragonFiles'))\n",
    "\n",
    "for file_name in dragon_files:\n",
    "    file_path = os.path.join(directory_path, file_name)\n",
    "    dragon_name = os.path.splitext(file_name)[0]\n",
    "    \n",
    "    with open(file_path, 'r') as file:\n",
    "        speech = file.read()\n",
    "        \n",
    "        doc = nlp(speech)\n",
    "        dragon_speech[dragon_name] = doc\n",
    "\n",
    "word_counts = {}\n",
    "for dragon, doc in dragon_speech.items():\n",
    "    counts = Counter(token.text.lower() for token in doc if token.text not in string.punctuation or token.text == \"'\")\n",
    "    word_counts[dragon] = counts\n",
    "\n",
    "output_file = 'dragon_speech_network.tsv'\n",
    "\n",
    "with open(output_file, 'w') as f:\n",
    "    f.write('source\\tconnector\\ttarget\\tweight\\n')\n",
    "    \n",
    "    for dragon, counts in word_counts.items():\n",
    "        for word, count in counts.items():\n",
    "            f.write(f'{word}\\tused by\\t{dragon}\\t{count}\\n')\n"
   ]
  },
  {
   "cell_type": "code",
   "execution_count": null,
   "id": "69e4063e-e301-486f-828c-50807f804049",
   "metadata": {
    "scrolled": true
   },
   "outputs": [],
   "source": [
    "import pandas as pd\n",
    "from pyvis.network import Network\n",
    "\n",
    "networkData = pd.read_csv(\"dragon_network.tsv\", sep='\\t', header=None, names=['source', 'connector', 'target', 'weight'], encoding='latin1')\n",
    "\n",
    "net = Network(height='600px', width='100%', bgcolor='#222222', font_color='white', notebook=True,)\n",
    "\n",
    "for i, row in networkData.iterrows():\n",
    "    source = row['source']\n",
    "    target = row['target']\n",
    "    weight = row['weight']\n",
    "    net.add_node(source, shape='circle', color='lightpink')\n",
    "    net.add_node(target, shape='box', color='red', size=30)\n",
    "    net.add_edge(source, target, value=weight*10, title=weight)\n",
    "\n",
    "net.barnes_hut(gravity=-80000, central_gravity=0.003, spring_length=5, spring_strength=0.1, damping=0.09, overlap=0)\n",
    "\n",
    "net.show_buttons(filter_=['physics'])\n",
    "net.toggle_physics(False)\n",
    "net.show('network_graph.html')"
   ]
  },
  {
   "cell_type": "code",
   "execution_count": null,
   "id": "52ec9e41-f914-4121-bca8-dbb882006c04",
   "metadata": {},
   "outputs": [],
   "source": [
    "import pandas as pd\n",
    "from pyvis.network import Network\n",
    "\n",
    "networkData = pd.read_csv(\"dragon_only_network.tsv\", sep='\\t', header=None, names=['source', 'connector', 'target', 'weight'], encoding='latin1')\n",
    "\n",
    "net = Network(height='600px', width='100%', bgcolor='#222222', font_color='white', notebook=True,)\n",
    "\n",
    "for i, row in networkData.iterrows():\n",
    "    source = row['source']\n",
    "    target = row['target']\n",
    "    weight = row['weight']\n",
    "    net.add_node(source, shape='circle', color='lightpink')\n",
    "    net.add_node(target, shape='box', color='red', size=30)\n",
    "    net.add_edge(source, target, value=weight*10, title=weight)\n",
    "\n",
    "net.barnes_hut(gravity=-80000, central_gravity=0.003, spring_length=5, spring_strength=0.1, damping=0.09, overlap=0)\n",
    "\n",
    "net.show_buttons(filter_=['physics'])\n",
    "net.toggle_physics(False)  # Disable physics by default\n",
    "net.show('network_graph2.html')"
   ]
  },
  {
   "cell_type": "code",
   "execution_count": null,
   "id": "66f85366-73c1-45ad-8d87-9d4c6580cc92",
   "metadata": {
    "scrolled": true
   },
   "outputs": [],
   "source": [
    "import pandas as pd\n",
    "from pyvis.network import Network\n",
    "\n",
    "networkData = pd.read_csv(\"english_network.tsv\", sep='\\t', header=None, names=['source', 'connector', 'target', 'weight'], encoding='latin1')\n",
    "\n",
    "net = Network(height='600px', width='100%', bgcolor='#222222', font_color='white', notebook=True,)\n",
    "\n",
    "for i, row in networkData.iterrows():\n",
    "    source = row['source']\n",
    "    target = row['target']\n",
    "    weight = row['weight']\n",
    "    net.add_node(source, shape='circle', color='lightpink')\n",
    "    net.add_node(target, shape='box', color='red', size=30)\n",
    "    net.add_edge(source, target, value=weight*10, title=weight)\n",
    "\n",
    "net.barnes_hut(gravity=-80000, central_gravity=0.003, spring_length=5, spring_strength=0.1, damping=0.09, overlap=0)\n",
    "\n",
    "net.show_buttons(filter_=['physics'])\n",
    "net.toggle_physics(False)\n",
    "net.show('network_graph3.html')"
   ]
  },
  {
   "cell_type": "code",
   "execution_count": null,
   "id": "072f0082-102c-4024-b0a0-05ddc557f175",
   "metadata": {},
   "outputs": [],
   "source": []
  }
 ],
 "metadata": {
  "kernelspec": {
   "display_name": "Python 3 (ipykernel)",
   "language": "python",
   "name": "python3"
  },
  "language_info": {
   "codemirror_mode": {
    "name": "ipython",
    "version": 3
   },
   "file_extension": ".py",
   "mimetype": "text/x-python",
   "name": "python",
   "nbconvert_exporter": "python",
   "pygments_lexer": "ipython3",
   "version": "3.12.1"
  }
 },
 "nbformat": 4,
 "nbformat_minor": 5
}
